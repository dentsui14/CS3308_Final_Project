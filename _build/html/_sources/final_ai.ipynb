{
 "cells": [
  {
   "cell_type": "markdown",
   "metadata": {},
   "source": [
    "# Final AI Project\n",
    "\n",
    "Write an essay taking a stance on the use of generative AI in some industry. Here are some questions to guide your essay content:\n",
    "\n",
    "* What implications does generative AI have on copyright law?\n",
    "* Who are the stakeholders involved in the use of AI?\n",
    "* How might generative AI improve or hurt our society?\n",
    "* What are some appropriate uses of AI? What are some inappropriate uses?\n",
    "\n",
    "You may use a combination of Internet and ChatGPT research. You may also use ChatGPT to write parts of your essay. Here are some possible uses for ChatGPT in writing:\n",
    "\n",
    "* Brainstorming\n",
    "* Template\n",
    "* Grammer/Spelling Check\n",
    "* Clarity\n",
    "* Tone Check\n",
    "\n",
    "Then, cite the ways in which you used ChatGPT in your writing. Include which prompts were the most and least useful and why.\n"
   ]
  }
 ],
 "metadata": {
  "language_info": {
   "name": "python"
  }
 },
 "nbformat": 4,
 "nbformat_minor": 2
}
