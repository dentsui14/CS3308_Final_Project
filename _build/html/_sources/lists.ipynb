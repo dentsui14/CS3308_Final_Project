{
 "cells": [
  {
   "cell_type": "markdown",
   "metadata": {},
   "source": [
    "# Lists\n",
    "\n",
    "## List basics\n",
    "\n",
    "Lists in Python are a special type of data that can hold multiple things, referred to as **elements**. They are defined with square brackets `[` and `]`."
   ]
  },
  {
   "cell_type": "code",
   "execution_count": null,
   "metadata": {},
   "outputs": [],
   "source": [
    "my_list = [1, 2, 3]\n",
    "print(my_list)"
   ]
  },
  {
   "cell_type": "markdown",
   "metadata": {},
   "source": [
    "Elements of a list can be accessed the following way:"
   ]
  },
  {
   "cell_type": "code",
   "execution_count": null,
   "metadata": {},
   "outputs": [],
   "source": [
    "my_element = my_list[0]\n",
    "my_other_element = my_list[1]\n",
    "print(\"my_element: \", my_element)\n",
    "print(\"my_other_element: \",my_other_element)"
   ]
  },
  {
   "cell_type": "markdown",
   "metadata": {},
   "source": [
    "`0` and `1` are refered to as **indices** for the list. The list index can be any integer type variable:"
   ]
  },
  {
   "cell_type": "code",
   "execution_count": null,
   "metadata": {},
   "outputs": [],
   "source": [
    "my_index = 2\n",
    "print(my_list[my_index])"
   ]
  },
  {
   "cell_type": "markdown",
   "metadata": {},
   "source": [
    "One very important thing to keep in mind is that Python is **0-indexed**. This means the first element of a list is accessed with index 0, the second with index 1, the third with index 2, and so on."
   ]
  },
  {
   "cell_type": "code",
   "execution_count": null,
   "metadata": {},
   "outputs": [],
   "source": [
    "# Lists can hold ANY type of data\n",
    "strings = [\"first\", \"second\", \"third\"]\n",
    "print(\"Index 0: \", strings[0])\n",
    "print(\"Index 1: \", strings[1])\n",
    "print(\"Index 2: \", strings[2])"
   ]
  },
  {
   "cell_type": "markdown",
   "metadata": {},
   "source": [
    "Even though there may be 3 items in a list, trying to use `strings[3]` will raise an `IndexOutOfBounds` exception; this is because index 3 refers to the fourth element in the list, and that doesn't exist."
   ]
  },
  {
   "cell_type": "code",
   "execution_count": null,
   "metadata": {},
   "outputs": [],
   "source": [
    "print(strings[100]) # won't work"
   ]
  },
  {
   "cell_type": "code",
   "execution_count": null,
   "metadata": {},
   "outputs": [],
   "source": [
    "print(strings[3]) # also won't work; remember, 2 is the maximum index"
   ]
  },
  {
   "cell_type": "markdown",
   "metadata": {},
   "source": [
    "You can use the built-in `len()` function to see how many elements there are in a list:"
   ]
  },
  {
   "cell_type": "code",
   "execution_count": null,
   "metadata": {},
   "outputs": [],
   "source": [
    "print(\"Number of items in `strings`: \", len(strings))"
   ]
  },
  {
   "cell_type": "markdown",
   "metadata": {},
   "source": [
    "## Some more list syntax\n",
    "\n",
    "You can use negative indices to index from the right-most element"
   ]
  },
  {
   "cell_type": "code",
   "execution_count": null,
   "metadata": {},
   "outputs": [],
   "source": [
    "my_list = [1, 3, 5, 7, 9]\n",
    "print(my_list[-1])\n",
    "print(my_list[-2])"
   ]
  },
  {
   "cell_type": "markdown",
   "metadata": {},
   "source": [
    "The code `my_list[-x]` is the same as `my_list[len(my_list)-x]`. \n",
    "\n",
    "List **slicing** in Python allows you to access a range of elements within a list. This works by passing in a start and an end index into the square brackets, separated by `:` like so:"
   ]
  },
  {
   "cell_type": "code",
   "execution_count": null,
   "metadata": {},
   "outputs": [],
   "source": [
    "numbers = [0, 1, 2, 3, 4, 5, 6, 7, 8, 9]\n",
    "\n",
    "first_five = numbers[0:5]\n",
    "print(\"First five numbers:\", first_five)\n",
    "\n",
    "middle_five = numbers[2:7]\n",
    "print(\"More numbers:\", middle_five)"
   ]
  },
  {
   "cell_type": "markdown",
   "metadata": {},
   "source": [
    "It's very important to note that the end number is **exclusive**. For example, in `middle_five` in the code above, `numbers[7]` is not included; the slice does not include index 7.\n",
    "\n",
    "You can also specify a third number as a step size, allowing you to access every second number like shown here:"
   ]
  },
  {
   "cell_type": "code",
   "execution_count": null,
   "metadata": {},
   "outputs": [],
   "source": [
    "\n",
    "# Slicing with a step\n",
    "every_second_number = numbers[0:10:2]\n",
    "print(\"Every second number:\", every_second_number)\n"
   ]
  },
  {
   "cell_type": "markdown",
   "metadata": {},
   "source": [
    "You can omit the first number to mean \"start from the beginning\":"
   ]
  },
  {
   "cell_type": "code",
   "execution_count": null,
   "metadata": {},
   "outputs": [],
   "source": [
    "first_five = numbers[:5] # in other words, the first 5 elements\n",
    "print(\"First five numbers:\", first_five)"
   ]
  },
  {
   "cell_type": "markdown",
   "metadata": {},
   "source": [
    "You can omit the last number to mean \"until the end\":"
   ]
  },
  {
   "cell_type": "code",
   "execution_count": null,
   "metadata": {},
   "outputs": [],
   "source": [
    "fifth_number_onwards = numbers[5:] # in other words, everything including/after 5th element\n",
    "print(\"First five numbers:\", fifth_number_onwards)"
   ]
  },
  {
   "cell_type": "markdown",
   "metadata": {},
   "source": [
    "You can use negative indices with slices too:"
   ]
  },
  {
   "cell_type": "code",
   "execution_count": null,
   "metadata": {},
   "outputs": [],
   "source": [
    "\n",
    "# Slicing with negative indices\n",
    "last_three = numbers[-3:]\n",
    "print(\"Last three numbers:\", last_three)"
   ]
  },
  {
   "cell_type": "markdown",
   "metadata": {},
   "source": [
    "## More list operations\n",
    "\n",
    "You can change the items in a list:"
   ]
  },
  {
   "cell_type": "code",
   "execution_count": null,
   "metadata": {},
   "outputs": [],
   "source": [
    "fruits = [\"apple\", \"banana\", \"cherry\"]\n",
    "print(\"Before: \", fruits)\n",
    "fruits[1] = \"blueberry\" # Modifying an item in the list\n",
    "print(\"After: \", fruits)\n"
   ]
  },
  {
   "cell_type": "markdown",
   "metadata": {},
   "source": [
    "\n",
    "Appending and removing elements are basic operations that modify a list by either adding elements to it or removing them."
   ]
  },
  {
   "cell_type": "code",
   "execution_count": null,
   "metadata": {},
   "outputs": [],
   "source": [
    "numbers = [0, 1, 2, 3, 4, 5, 6, 7, 8, 9]\n",
    "\n",
    "# Appending an element\n",
    "numbers.append(10)\n",
    "print(\"After appending 10:\", numbers)\n",
    "\n",
    "# Removing an element by value\n",
    "numbers.remove(10)\n",
    "print(\"After removing 10:\", numbers)"
   ]
  },
  {
   "cell_type": "markdown",
   "metadata": {},
   "source": [
    "Sorting a list is a common operation, useful in numerous applications. Python provides a simple way to sort lists in either ascending or descending order."
   ]
  },
  {
   "cell_type": "code",
   "execution_count": null,
   "metadata": {},
   "outputs": [],
   "source": [
    "# Sorting a list in ascending order\n",
    "unsorted_list = [3, 1, 4, 1, 5, 9, 2, 6, 5, 3, 5]\n",
    "unsorted_list.sort()\n",
    "print(\"Sorted list:\", unsorted_list)\n",
    "\n",
    "# Sorting in descending order\n",
    "unsorted_list.sort(reverse=True)\n",
    "print(\"Sorted in descending order:\", unsorted_list)\n"
   ]
  },
  {
   "cell_type": "markdown",
   "metadata": {},
   "source": [
    "Searching for elements in a list can be done in various ways. The simplest is using the in keyword to check if an element exists in the list."
   ]
  },
  {
   "cell_type": "code",
   "execution_count": null,
   "metadata": {},
   "outputs": [],
   "source": [
    "# Searching for an element\n",
    "search_item = 5\n",
    "if search_item in unsorted_list:\n",
    "    print(f\"{search_item} is in the list\")\n",
    "else:\n",
    "    print(f\"{search_item} is not in the list\")\n"
   ]
  },
  {
   "cell_type": "markdown",
   "metadata": {},
   "source": [
    "Copying a list is important when you need to preserve the original list before performing operations that modify it.\n",
    "\n",
    "Lets look at what happens when we make a new list with an existing list"
   ]
  },
  {
   "cell_type": "code",
   "execution_count": null,
   "metadata": {},
   "outputs": [],
   "source": [
    "first_list = [1, 2, 3]\n",
    "print(\"first_list: \", first_list)\n",
    "second_list = first_list\n",
    "second_list[0] = 1000\n",
    "print(\"second_list: \", second_list)"
   ]
  },
  {
   "cell_type": "markdown",
   "metadata": {},
   "source": [
    "So far so good, but watch what happens when we print the first list again:"
   ]
  },
  {
   "cell_type": "code",
   "execution_count": null,
   "metadata": {},
   "outputs": [],
   "source": [
    "print(\"first_list: \", first_list)"
   ]
  },
  {
   "cell_type": "markdown",
   "metadata": {},
   "source": [
    "We can avoid this problem by copying the first list instead of just assigning it:"
   ]
  },
  {
   "cell_type": "code",
   "execution_count": null,
   "metadata": {},
   "outputs": [],
   "source": [
    "first_list = [1, 2, 3]\n",
    "print(\"first_list: \", first_list)\n",
    "second_list = first_list.copy() # We copy here\n",
    "second_list[0] = 1000\n",
    "print(\"second_list: \", second_list)\n",
    "print(\"first_list: \", first_list)"
   ]
  },
  {
   "cell_type": "markdown",
   "metadata": {},
   "source": [
    "## Using loops with lists\n",
    "\n",
    "You can loop through the list items by using a for loop."
   ]
  },
  {
   "cell_type": "code",
   "execution_count": null,
   "metadata": {},
   "outputs": [],
   "source": [
    "fruits = [\"apple\", \"banana\", \"cherry\"]\n",
    "\n",
    "# Looping through a list\n",
    "for fruit in fruits:\n",
    "    print(\"Fruit:\", fruit)"
   ]
  },
  {
   "cell_type": "markdown",
   "metadata": {},
   "source": [
    "List comprehensions provide a concise way to create lists. Common applications are to make new lists where each element is the result of some operations applied to each member of another sequence or iterable."
   ]
  },
  {
   "cell_type": "code",
   "execution_count": null,
   "metadata": {},
   "outputs": [],
   "source": [
    "numbers = [1, 2, 3]\n",
    "print(\"numbers: \", numbers)\n",
    "squares = [n * n for n in numbers]\n",
    "print(\"numbers: \", squares)"
   ]
  },
  {
   "cell_type": "markdown",
   "metadata": {},
   "source": [
    "The above code is just a shorter way to write:"
   ]
  },
  {
   "cell_type": "code",
   "execution_count": null,
   "metadata": {},
   "outputs": [],
   "source": [
    "numbers = [1, 2, 3]\n",
    "print(\"numbers: \", numbers)\n",
    "squares = []\n",
    "for n in numbers:\n",
    "    squares.append(n * n)\n",
    "print(\"numbers: \", squares)"
   ]
  }
 ],
 "metadata": {
  "kernelspec": {
   "display_name": "Python 3",
   "language": "python",
   "name": "python3"
  },
  "language_info": {
   "codemirror_mode": {
    "name": "ipython",
    "version": 3
   },
   "file_extension": ".py",
   "mimetype": "text/x-python",
   "name": "python",
   "nbconvert_exporter": "python",
   "pygments_lexer": "ipython3",
   "version": "3.11.9"
  }
 },
 "nbformat": 4,
 "nbformat_minor": 2
}
