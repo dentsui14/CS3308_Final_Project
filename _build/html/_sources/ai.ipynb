{
 "cells": [
  {
   "cell_type": "markdown",
   "metadata": {},
   "source": [
    "# Artificial Intelligence Module\n",
    "\n",
    "## Module Objectives\n",
    "\n",
    "By the end of this module you will be able to\n",
    "\n",
    "* Identify the different mechanisms and uses for traditional computing and artificial intelligence.\n",
    "* Explain how the 5 steps: initialization, initial hypothesis, evaluation, refinement, and convergence are present in various machine learning models.\n",
    "* Apply the intuition learned from AI algorithms to properly prompt ChatGPT with various patterns"
   ]
  }
 ],
 "metadata": {
  "language_info": {
   "name": "python"
  }
 },
 "nbformat": 4,
 "nbformat_minor": 2
}
