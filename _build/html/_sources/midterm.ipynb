{
 "cells": [
  {
   "cell_type": "markdown",
   "metadata": {},
   "source": [
    "# Midterm Coding Assessment\n",
    "\n",
    "**REMINDER** Click on the rocket symbol in the top right and press live code. Go to {doc}`welcome` for more information!\n",
    "\n",
    "## Problem Statement\n",
    "\n",
    "Create a Python script to analyze student grades. This script will automatically classify grades for a predefined list of students based on their average grade.\n",
    "\n",
    "## Requirements\n",
    "\n",
    "### Data Representation\n",
    "\n",
    "Use a dictionary to store each student's name as a key and their grades (a list of integers) as the value.\n",
    "\n",
    "### Operations on Data\n",
    "\n",
    "Write a function to calculate the average grade for each student.\n",
    "\n",
    "### Conditionals and Logic:\n",
    "\n",
    "Implement logic to categorize each student's average grade:\n",
    "\n",
    "* \"Excellent\" for averages >= 90.\n",
    "* \"Good\" for averages >= 70 and < 90.\n",
    "* \"Average\" for averages >= 50 and < 70.\n",
    "* \"Poor\" for averages < 50.\n",
    "\n",
    "### Loops:\n",
    "\n",
    "Use a for loop to iterate through the dictionary, calculate the average grade for each student, and print their name with their grade category."
   ]
  },
  {
   "cell_type": "code",
   "execution_count": null,
   "metadata": {},
   "outputs": [],
   "source": [
    "def calculate_average(grades):\n",
    "    \"\"\"Calculate the average of a list of grades.\"\"\"\n",
    "    pass\n",
    "\n",
    "def print_student_details(grades_dict):\n",
    "    \"\"\"Print each student's name, average grade, and category.\"\"\"\n",
    "    pass\n",
    "\n",
    "# Dictionary to store student names and their grades\n",
    "student_grades = {\n",
    "    \"Alice\": [88, 92, 100],\n",
    "    \"Bob\": [70, 85, 78],\n",
    "    \"Charlie\": [45, 55, 65],\n",
    "    \"Diana\": [95, 90, 98]\n",
    "}\n",
    "\n",
    "# Expected output for verification\n",
    "expected_output = [\n",
    "    \"Alice: Excellent (Avg: 93.33)\",\n",
    "    \"Bob: Good (Avg: 77.67)\",\n",
    "    \"Charlie: Average (Avg: 55.00)\",\n",
    "    \"Diana: Excellent (Avg: 94.33)\"\n",
    "]\n",
    "\n",
    "# Running the function and capturing the output\n",
    "actual_output = print_student_details(student_grades)\n",
    "\n",
    "# Asserting the actual output matches the expected output\n",
    "assert actual_output == expected_output, \"The output does not match the expected results.\"\n",
    "\n",
    "print(\"All tests passed successfully!\")\n"
   ]
  }
 ],
 "metadata": {
  "kernelspec": {
   "display_name": "Python 3",
   "language": "python",
   "name": "python3"
  },
  "language_info": {
   "codemirror_mode": {
    "name": "ipython",
    "version": 3
   },
   "file_extension": ".py",
   "mimetype": "text/x-python",
   "name": "python",
   "nbconvert_exporter": "python",
   "pygments_lexer": "ipython3",
   "version": "3.11.9"
  }
 },
 "nbformat": 4,
 "nbformat_minor": 2
}
