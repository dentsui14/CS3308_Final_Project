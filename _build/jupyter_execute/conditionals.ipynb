{
 "cells": [
  {
   "cell_type": "markdown",
   "metadata": {},
   "source": [
    "# Conditionals\n",
    "\n",
    "**REMINDER** Click on the rocket symbol in the top right and press live code. Go to {doc}`welcome` for more information!\n",
    "\n",
    "## What is Logic?\n",
    "\n",
    "Logic in programming refers to the systematic principles of correct reasoning that dictate how decisions are made and actions are executed based on various conditions. It is foundational to programming as it ensures that programs behave correctly and efficiently under different scenarios. Logical constructs guide the flow of execution, enabling programs to make choices that lead to different outcomes based on the input data and predefined conditions.\n",
    "\n",
    "## What is a Boolean?\n",
    "\n",
    "A Boolean is a simple type of data in programming that can hold one of two possible values: True or False. These values are instrumental in controlling program flow through conditional statements, which are constructs that allow decisions to be made dynamically during runtime based on boolean conditions. For example, a program might check if a user is authorized (True) or not (False) and redirect them accordingly."
   ]
  },
  {
   "cell_type": "code",
   "execution_count": null,
   "metadata": {},
   "outputs": [],
   "source": [
    "# set the value of authorized to be True and False\n",
    "authorized = True\n",
    "if authorized:\n",
    "    print(\"You have access!\")\n",
    "else:\n",
    "    print(\"No access\")"
   ]
  },
  {
   "cell_type": "markdown",
   "metadata": {},
   "source": [
    "In the above code segment, see what happens when you run the code segment before and after changing the value of authorized from True to False. The if statement tells the computer to execute everything in the if code block when the boolean evaluates to True. The else statement tells the computer that when the boolean evalues to False to run the else code block.\n",
    "\n",
    "Note that the else block is optional."
   ]
  },
  {
   "cell_type": "code",
   "execution_count": null,
   "metadata": {},
   "outputs": [],
   "source": [
    "authorized = True\n",
    "if authorized:\n",
    "    print(\"You have access!\")\n",
    "print(\"No access\")"
   ]
  },
  {
   "cell_type": "markdown",
   "metadata": {},
   "source": [
    "Once again, change the value of authorized and see how the output differs from when we had the else keyword.\n",
    "\n",
    "## Logical Operations:\n",
    "\n",
    "Logical operations are fundamental in all programming languages, including Python, as they form the basis of decision-making in code. The primary logical operations are:\n",
    "\n",
    "**and**: This operation returns True if both operands are true. It is typically used to ensure that multiple conditions are met before an action is taken. For instance, checking if a user is both authenticated and authorized to perform an action.\n",
    "\n",
    "**or**: Returns True if at least one of the operands is true. This is useful in scenarios where multiple conditions might warrant the same action or outcome, such as granting access if a user is an admin or a moderator.\n",
    "\n",
    "**not**: This operation inverts the truth value of its operand. If the operand is True, NOT changes it to False, and vice versa. It's commonly used to reverse conditions, such as triggering an action when a condition is not met\n",
    "\n",
    "These operations allow us to check for more complex conditions than simply the value of one variable."
   ]
  },
  {
   "cell_type": "code",
   "execution_count": null,
   "metadata": {},
   "outputs": [],
   "source": [
    "age = 18\n",
    "has_license = True\n",
    "\n",
    "# Check if the person is eligible to drive\n",
    "if age >= 18 and has_license:\n",
    "    print(\"Eligible to drive.\")\n",
    "else:\n",
    "    print(\"Not eligible to drive.\")\n",
    "\n",
    "# Using logical operations in conditionals\n",
    "age = 16\n",
    "parent_permission = False\n",
    "\n",
    "if age < 18 or not parent_permission:\n",
    "    print(\"Needs parental permission to join the trip.\")\n",
    "else:\n",
    "    print(\"Does not need parental permission to join the trip.\")"
   ]
  },
  {
   "cell_type": "markdown",
   "metadata": {},
   "source": [
    "## Elif\n",
    "\n",
    "Elif is short for else if. Similar to else, elif is triggered when the if statement's boolean evaluates to False. The difference is that elif allows us to check for another condition after the \"else\". This allows us to create a \"chain\" of conditions checking. Adding an else at the end of an elif chain is optional."
   ]
  },
  {
   "cell_type": "code",
   "execution_count": null,
   "metadata": {},
   "outputs": [],
   "source": [
    "# Test the code by changing the values of is_male and age.\n",
    "# What happens when is_male is True and age < 21?\n",
    "age = 10\n",
    "is_male = False\n",
    "if age < 13:\n",
    "    print(\"You are a child\")\n",
    "elif age < 20:\n",
    "    print(\"You are a teen\")\n",
    "elif age == 20:\n",
    "    print(\"You are a young adult\")\n",
    "elif is_male:\n",
    "    print(\"You are a man\")"
   ]
  },
  {
   "cell_type": "markdown",
   "metadata": {},
   "source": [
    "What is important to note that elif only triggers when the above statement is false. Thus, even if is_male is true, we only perform the checking when all of the conditions above it failed, aka age must be greater than 21."
   ]
  }
 ],
 "metadata": {
  "language_info": {
   "name": "python"
  }
 },
 "nbformat": 4,
 "nbformat_minor": 2
}