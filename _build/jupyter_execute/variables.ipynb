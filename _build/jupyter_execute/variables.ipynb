{
 "cells": [
  {
   "cell_type": "markdown",
   "metadata": {},
   "source": [
    "# Variables\n",
    "\n",
    "**REMINDER** Click on the rocket symbol in the top right and press live code. Go to {doc}`welcome` for more information!\n",
    "\n",
    "## What is data?\n",
    "\n",
    "Data is the foundation of modern computing, referring to the information or values that can be processed or manipulated by a program. In computing, data is represented in various forms such as numbers, text, images, sounds, and more complex structures like lists, dictionaries, and user-defined objects. These data types are essential as they dictate the kind of operations that programs can perform on the data, influencing both the functionality and performance of software applications.\n",
    "\n",
    "## How is Data Stored in Computers?\n",
    "\n",
    "Data in computers is primarily stored in binary form, using combinations of zeros and ones. Each bit represents a power of two, and when combined, they can represent any numerical value. For instance, data such as integers, floating points, and strings are stored using specific encoding systems like ASCII or Unicode for text, and IEEE standards for floating-point numbers. These data types are then stored in memory locations that are accessible by the computer's processor, allowing for fast retrieval and manipulation. Modern computers also use various storage devices like RAM, hard drives, and SSDs, which help in managing data efficiently for different needs—speed, permanence, or capacity.\n",
    "\n",
    "# How do we store data in Python?\n",
    "\n",
    "Consider the following snippet of code. Run it to see the result:"
   ]
  },
  {
   "cell_type": "code",
   "execution_count": null,
   "metadata": {},
   "outputs": [],
   "source": [
    "number = 10\n",
    "print(number)"
   ]
  },
  {
   "cell_type": "markdown",
   "metadata": {},
   "source": [
    "The first line creates a variable with the name number. The = sign will takes the variable and assigns the value that is to the right of the = sign (in this case 10). Once the value of number is 10, calling print(number) prints the value of number, which is 10."
   ]
  },
  {
   "cell_type": "markdown",
   "metadata": {},
   "source": [
    "\n",
    "\n",
    "## Operations on Data:\n",
    "\n",
    "In programming languages like Python, data operations can be categorized into several types depending on the nature and structure of the data. Run the following code cells to explore how they work.\n",
    "\n",
    "## Arithmetic Operations: \n",
    "\n",
    "These include basic mathematical operations such as addition (+), subtraction (-), multiplication (*), and division (/). Python also supports more complex arithmetic like modulus operations (%) which finds the remainder of a division, and exponentiation (**) to raise a number to the power of another.\n",
    "\n",
    "Try changing the values of a and b. Just like that, we have created our own calculator!\n"
   ]
  },
  {
   "cell_type": "code",
   "execution_count": null,
   "metadata": {},
   "outputs": [],
   "source": [
    "# Arithmetic Operations\n",
    "a = 10\n",
    "b = 3\n",
    "print(a + b)  \n",
    "print(a - b)  \n",
    "print(a * b) \n",
    "print(a / b)\n",
    "print(a % b)\n",
    "print(a ** 3)"
   ]
  },
  {
   "cell_type": "markdown",
   "metadata": {},
   "source": [
    "## Logical Operations: \n",
    "\n",
    "Logical operations involve boolean logic and include operators like AND, OR, and NOT. These are crucial in decision-making processes in programming, helping to control the flow of execution based on certain conditions."
   ]
  },
  {
   "cell_type": "code",
   "execution_count": null,
   "metadata": {},
   "outputs": [],
   "source": [
    "# Logical Operations\n",
    "a = True\n",
    "b = False\n",
    "print(a and b) \n",
    "print(a or b) \n",
    "print(not a)"
   ]
  },
  {
   "cell_type": "markdown",
   "metadata": {},
   "source": [
    "## Comparison Operations: \n",
    "\n",
    "These operations compare two values and return a boolean result. Common comparison operators include greater than (>), less than (<), equal to (==), not equal to (!=), greater than or equal to (>=), and less than or equal to (<=)."
   ]
  },
  {
   "cell_type": "code",
   "execution_count": null,
   "metadata": {},
   "outputs": [],
   "source": [
    "# Comparison Operations\n",
    "print(a > b)\n",
    "print(a == b)"
   ]
  }
 ],
 "metadata": {
  "kernelspec": {
   "display_name": "Python 3",
   "language": "python",
   "name": "python3"
  },
  "language_info": {
   "codemirror_mode": {
    "name": "ipython",
    "version": 3
   },
   "file_extension": ".py",
   "mimetype": "text/x-python",
   "name": "python",
   "nbconvert_exporter": "python",
   "pygments_lexer": "ipython3",
   "version": "3.11.9"
  }
 },
 "nbformat": 4,
 "nbformat_minor": 2
}