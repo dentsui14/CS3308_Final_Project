{
 "cells": [
  {
   "cell_type": "markdown",
   "metadata": {},
   "source": [
    "# Computing Module\n",
    "\n",
    "## Module Objectives\n",
    "\n",
    "By the end of this module you will be able to\n",
    "\n",
    "* Explain the strengths and weaknesses of computers and humans\n",
    "* Define the terms algorithm, program, pseudocode, code, and programming language and relate them to how computers acomplish goals\n",
    "* Understand what makes an algorithm \"better\" or more efficient.\n",
    "* Identify the use cases for basic Python data structures and control flow commands including variables, conditionals, loops, functions, and lists.\n",
    "* Code basic programs to leverage the power of computation to solve difficult problems."
   ]
  }
 ],
 "metadata": {
  "language_info": {
   "name": "python"
  }
 },
 "nbformat": 4,
 "nbformat_minor": 2
}