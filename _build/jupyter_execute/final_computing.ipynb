{
 "cells": [
  {
   "cell_type": "markdown",
   "metadata": {},
   "source": [
    "# Final Computing Project\n",
    "\n",
    "**REMINDER** Click on the rocket symbol in the top right and press live code. Go to {doc}`welcome` for more information!\n",
    "\n",
    "Consider the following pseudocode for a binary search:\n",
    "\n",
    "## Pseudocode\n",
    "\n",
    "1. Obtain a dictionary (not to be confused with a Python dictionary!).\n",
    "2. Repeat steps 3-7 until the word has been found.\n",
    "3. Open the dictionary to the middle of it.\n",
    "4. If the word on the page is the word we are looking for, read the definition and exit.\n",
    "5. Otherwise, if the word on the page alphabetically is before the word we are looking for, discard the first half of the book.\n",
    "6. Otherwise, if the word on the page is alphabetically after the word we are looking for, discard the second half of the book.\n",
    "7. Otherwise, If the dictionary is empty, then exit, as the word is not in the dictionary.\n",
    "\n",
    "Now that you have learned about variables, conditionals, loops, and lists, use these concepts to translate this pseudocode to real code.\n",
    "\n",
    "Note: when you divide the dictionary in half, examine the index by computing new_index = int(old_index / 2)"
   ]
  },
  {
   "cell_type": "code",
   "execution_count": null,
   "metadata": {},
   "outputs": [],
   "source": [
    "# return an integer number representing the number of entries we read to find the number in the list\n",
    "# return -1 if the number is not found\n",
    "def binary_search(list_to_search, number_to_find):\n",
    "    pass\n",
    "\n",
    "if binary_search([1,2,3,5,7,13], 3) == 1:\n",
    "    print(\"Test 1 passed\")\n",
    "else:\n",
    "    print(\"Test 1 failed\")\n",
    "\n",
    "if binary_search([], 0) == -1:\n",
    "    print(\"Test 2 passed\")\n",
    "else:\n",
    "    print(\"Test 2 failed\")\n",
    "\n",
    "if binary_search([3, 8, 99, 100, 200, 400, 1000], 3) == 3:\n",
    "    print(\"Test 3 passed\")\n",
    "else:\n",
    "    print(\"Test 3 failed\")"
   ]
  }
 ],
 "metadata": {
  "kernelspec": {
   "display_name": "Python 3",
   "language": "python",
   "name": "python3"
  },
  "language_info": {
   "codemirror_mode": {
    "name": "ipython",
    "version": 3
   },
   "file_extension": ".py",
   "mimetype": "text/x-python",
   "name": "python",
   "nbconvert_exporter": "python",
   "pygments_lexer": "ipython3",
   "version": "3.11.9"
  }
 },
 "nbformat": 4,
 "nbformat_minor": 2
}