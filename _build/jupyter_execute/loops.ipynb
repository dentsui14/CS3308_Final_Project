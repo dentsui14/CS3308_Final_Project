{
 "cells": [
  {
   "cell_type": "markdown",
   "metadata": {},
   "source": [
    "# Loops\n",
    "\n",
    "**REMINDER** Click on the rocket symbol in the top right and press live code. Go to {doc}`welcome` for more information!\n",
    "\n",
    "## What is a loop?\n",
    "\n",
    "A loop in programming is a fundamental control flow statement designed to repeat a block of code under certain conditions. The execution of loops is governed by a Boolean condition, which is checked before each iteration. If the condition evaluates to True, the loop continues running. It stops only when the condition is False or when an explicit termination command, like a break, is issued within the loop body. This allows programmers to efficiently handle tasks that require repeated execution using a concise amount of code.\n",
    "\n",
    "## How to Iterate Using Loops:\n",
    "\n",
    "Iteration with loops is achieved by executing a block of code multiple times until a specific condition is altered, typically involving modification of variables within the loop. For example, you might increment a counter each time the loop executes, or append results to a list. This repetitive action is what allows loops to perform tasks such as aggregating data, processing input, or automating repetitive tasks efficiently.\n",
    "\n",
    "## Differences between For and While Loops:\n",
    "\n",
    "### For Loop: \n",
    "This type of loop is generally used for iterating over a sequence such as a list, tuple, dictionary, or string. It is also ideal for executing a block of code a specific number of times, utilizing a counter to track iterations. The number of iterations is usually determined prior to the start of the loop, making the for loop a choice for situations where the endpoint is known."
   ]
  },
  {
   "cell_type": "code",
   "execution_count": null,
   "metadata": {},
   "outputs": [],
   "source": [
    "# Iterating through a list\n",
    "names = [\"Alice\", \"Bob\", \"Charlie\"]\n",
    "for name in names:\n",
    "    print(f\"Hello, {name}!\")"
   ]
  },
  {
   "cell_type": "markdown",
   "metadata": {},
   "source": [
    "We will go more in depth into lists at a later chapter. Just know that the for loop iterates through every value in the list. Every iteration is performed with the value of name set to the next value in the list."
   ]
  },
  {
   "cell_type": "markdown",
   "metadata": {},
   "source": [
    "### While Loop: \n",
    "Contrasting with the for loop, the while loop is used when the number of iterations is unknown before the loop begins. It executes as long as a specified condition remains true. This makes while loops suitable for scenarios where you need to continue looping until a particular state is reached or a certain condition changes."
   ]
  },
  {
   "cell_type": "code",
   "execution_count": null,
   "metadata": {},
   "outputs": [],
   "source": [
    "# Using a while loop to count down from 5\n",
    "count = 5\n",
    "while count > 0:\n",
    "    print(count)\n",
    "    count -= 1  # Decrease count by 1 each time\n",
    "print(\"Go!\")"
   ]
  },
  {
   "cell_type": "markdown",
   "metadata": {},
   "source": [
    "Try changing the value of count to 10. Because count decrements every loop, this will change the length of our countdown from 5 to 10.\n",
    "\n",
    "Also, try removing count -= 1. Notice that the code will run infinitely. Make sure to stop the code's execution to prevent the kernel from crashing. This highlights how important is in a while loop that we are moving towards the condition in the boolean evaluating as False instead of True."
   ]
  }
 ],
 "metadata": {
  "language_info": {
   "name": "python"
  }
 },
 "nbformat": 4,
 "nbformat_minor": 2
}