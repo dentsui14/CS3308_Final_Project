{
 "cells": [
  {
   "cell_type": "markdown",
   "metadata": {},
   "source": [
    "Here we will start with an Introduction to Python. We will cover 5 basics topic in this section: Variables and Operations, Conditionals, Loops, Functions, and OOP/List. "
   ]
  },
  {
   "cell_type": "markdown",
   "metadata": {},
   "source": [
    "Variables\n",
    "\n",
    "Introduction to Data:\n",
    "\n",
    "What is Data?\n",
    "\n",
    "Data is the foundation of modern computing, referring to the information or values that can be processed or manipulated by a program. In computing, data is represented in various forms such as numbers, text, images, sounds, and more complex structures like lists, dictionaries, and user-defined objects. These data types are essential as they dictate the kind of operations that programs can perform on the data, influencing both the functionality and performance of software applications.\n",
    "\n",
    "How is Data Stored in Computers?\n",
    "\n",
    "Data in computers is primarily stored in binary form, using combinations of zeros and ones. Each bit represents a power of two, and when combined, they can represent any numerical value. For instance, data such as integers, floating points, and strings are stored using specific encoding systems like ASCII or Unicode for text, and IEEE standards for floating-point numbers. These data types are then stored in memory locations that are accessible by the computer's processor, allowing for fast retrieval and manipulation. Modern computers also use various storage devices like RAM, hard drives, and SSDs, which help in managing data efficiently for different needs—speed, permanence, or capacity.\n",
    "\n",
    "Operations on Data:\n",
    "\n",
    "Types of Operations that Can be Performed with Data:\n",
    "\n",
    "In programming languages like Python, data operations can be categorized into several types depending on the nature and structure of the data:\n",
    "\n",
    "Arithmetic Operations: \n",
    "\n",
    "These include basic mathematical operations such as addition (+), subtraction (-), multiplication (*), and division (/). Python also supports more complex arithmetic like modulus operations (%) which finds the remainder of a division, and exponentiation (**) to raise a number to the power of another.\n",
    "\n",
    "Logical Operations: \n",
    "\n",
    "Logical operations involve boolean logic and include operators like AND, OR, and NOT. These are crucial in decision-making processes in programming, helping to control the flow of execution based on certain conditions.\n",
    "\n",
    "Comparison Operations: \n",
    "\n",
    "These operations compare two values and return a boolean result. Common comparison operators include greater than (>), less than (<), equal to (==), not equal to (!=), greater than or equal to (>=), and less than or equal to (<=).\n"
   ]
  },
  {
   "cell_type": "code",
   "execution_count": null,
   "metadata": {},
   "outputs": [],
   "source": [
    "# Arithmetic Operations\n",
    "a = 10\n",
    "b = 3\n",
    "print(a + b)  # Output: 13\n",
    "print(a - b)  # Output: 7\n",
    "print(a * b)  # Output: 30\n",
    "print(a / b)  # Output: 3.333\n",
    "\n",
    "# Logical Operations\n",
    "a = True\n",
    "b = False\n",
    "print(a and b)  # Output: False\n",
    "print(a or b)   # Output: True\n",
    "print(not a)    # Output: False\n",
    "\n",
    "# Comparison Operations\n",
    "print(a > b)  # Output: True\n",
    "print(a == b)  # Output: False\n"
   ]
  },
  {
   "cell_type": "markdown",
   "metadata": {},
   "source": [
    "Conditionals\n",
    "\n",
    "Understanding Logic and Boolean:\n",
    "\n",
    "What is Logic?\n",
    "\n",
    "Logic in programming refers to the systematic principles of correct reasoning that dictate how decisions are made and actions are executed based on various conditions. It is foundational to programming as it ensures that programs behave correctly and efficiently under different scenarios. Logical constructs guide the flow of execution, enabling programs to make choices that lead to different outcomes based on the input data and predefined conditions.\n",
    "\n",
    "\n",
    "What is a Boolean?\n",
    "\n",
    "A Boolean is a simple type of data in programming that can hold one of two possible values: True or False. These values are instrumental in controlling program flow through conditional statements, which are constructs that allow decisions to be made dynamically during runtime based on boolean conditions. For example, a program might check if a user is authorized (True) or not (False) and redirect them accordingly.\n",
    "\n",
    "Logical Operations:\n",
    "\n",
    "Logical operations are fundamental in all programming languages, including Python, as they form the basis of decision-making in code. The primary logical operations are:\n",
    "\n",
    "AND: This operation returns True if both operands are true. It is typically used to ensure that multiple conditions are met before an action is taken. For instance, checking if a user is both authenticated and authorized to perform an action.\n",
    "\n",
    "OR: Returns True if at least one of the operands is true. This is useful in scenarios where multiple conditions might warrant the same action or outcome, such as granting access if a user is an admin or a moderator.\n",
    "\n",
    "NOT: This operation inverts the truth value of its operand. If the operand is True, NOT changes it to False, and vice versa. It's commonly used to reverse conditions, such as triggering an action when a condition is not met\n"
   ]
  },
  {
   "cell_type": "code",
   "execution_count": 3,
   "metadata": {},
   "outputs": [
    {
     "name": "stdout",
     "output_type": "stream",
     "text": [
      "Eligible to drive.\n",
      "Needs parental permission to join the trip.\n"
     ]
    }
   ],
   "source": [
    "age = 18\n",
    "has_license = True\n",
    "\n",
    "# Check if the person is eligible to drive\n",
    "if age >= 18 and has_license:\n",
    "    print(\"Eligible to drive.\")\n",
    "else:\n",
    "    print(\"Not eligible to drive.\")\n",
    "\n",
    "# Using logical operations in conditionals\n",
    "age = 16\n",
    "parent_permission = False\n",
    "\n",
    "if age < 18 or not parent_permission:\n",
    "    print(\"Needs parental permission to join the trip.\")\n",
    "else:\n",
    "    print(\"Does not need parental permission to join the trip.\")\n"
   ]
  },
  {
   "cell_type": "markdown",
   "metadata": {},
   "source": [
    "Loops:\n",
    "\n",
    "\n",
    "Introduction to Loops:\n",
    "\n",
    "What is a Loop?\n",
    "A loop in programming is a fundamental control flow statement designed to repeat a block of code under certain conditions. The execution of loops is governed by a Boolean condition, which is checked before each iteration. If the condition evaluates to True, the loop continues running. It stops only when the condition is False or when an explicit termination command, like a break, is issued within the loop body. This allows programmers to efficiently handle tasks that require repeated execution using a concise amount of code.\n",
    "\n",
    "Using Loops:\n",
    "\n",
    "How to Iterate Using Loops:\n",
    "\n",
    "Iteration with loops is achieved by executing a block of code multiple times until a specific condition is altered, typically involving modification of variables within the loop. For example, you might increment a counter each time the loop executes, or append results to a list. This repetitive action is what allows loops to perform tasks such as aggregating data, processing input, or automating repetitive tasks efficiently.\n",
    "\n",
    "Differences between For and While Loops:\n",
    "\n",
    "For Loop: This type of loop is generally used for iterating over a sequence such as a list, tuple, dictionary, or string. It is also ideal for executing a block of code a specific number of times, utilizing a counter to track iterations. The number of iterations is usually determined prior to the start of the loop, making the for loop a choice for situations where the endpoint is known.\n",
    "\n",
    "While Loop: Contrasting with the for loop, the while loop is used when the number of iterations is unknown before the loop begins. It executes as long as a specified condition remains true. This makes while loops suitable for scenarios where you need to continue looping until a particular state is reached or a certain condition changes.\n",
    "\n",
    "\n",
    "\n",
    "Understanding Loop Termination Points:\n",
    "Identifying and setting loop termination points is critical to prevent infinite loops, which can cause programs to freeze or crash by looping indefinitely. To manage loop execution:\n",
    "\n",
    "Break: This statement immediately exits the loop, regardless of the loop condition. It is often used to exit a loop when an external condition is met, or a particular event occurs.\n",
    "\n",
    "Continue: This statement skips the remaining code inside the loop for the current iteration and proceeds to the next cycle of the loop. It is useful for bypassing certain conditions within a loop without breaking out of the loop entirely.\n",
    "\n"
   ]
  },
  {
   "cell_type": "code",
   "execution_count": 4,
   "metadata": {},
   "outputs": [
    {
     "name": "stdout",
     "output_type": "stream",
     "text": [
      "Hello, Alice!\n",
      "Hello, Bob!\n",
      "Hello, Charlie!\n"
     ]
    }
   ],
   "source": [
    "# Iterating through a list\n",
    "names = [\"Alice\", \"Bob\", \"Charlie\"]\n",
    "for name in names:\n",
    "    print(f\"Hello, {name}!\")\n"
   ]
  },
  {
   "cell_type": "markdown",
   "metadata": {},
   "source": [
    "This for loop iterates through each element in the list names and prints a greeting for each person."
   ]
  },
  {
   "cell_type": "code",
   "execution_count": 5,
   "metadata": {},
   "outputs": [
    {
     "name": "stdout",
     "output_type": "stream",
     "text": [
      "5\n",
      "4\n",
      "3\n",
      "2\n",
      "1\n",
      "Go!\n"
     ]
    }
   ],
   "source": [
    "# Using a while loop to count down from 5\n",
    "count = 5\n",
    "while count > 0:\n",
    "    print(count)\n",
    "    count -= 1  # Decrease count by 1 each time\n",
    "print(\"Go!\")\n"
   ]
  },
  {
   "cell_type": "markdown",
   "metadata": {},
   "source": [
    "In this while loop example, count starts at 5 and is decremented each time the loop iterates. When count reaches zero, the loop terminates, and \"Go!\" is printed."
   ]
  }
 ],
 "metadata": {
  "kernelspec": {
   "display_name": "Python 3",
   "language": "python",
   "name": "python3"
  },
  "language_info": {
   "codemirror_mode": {
    "name": "ipython",
    "version": 3
   },
   "file_extension": ".py",
   "mimetype": "text/x-python",
   "name": "python",
   "nbconvert_exporter": "python",
   "pygments_lexer": "ipython3",
   "version": "3.10.1"
  },
  "widgets": {
   "application/vnd.jupyter.widget-state+json": {
    "state": {},
    "version_major": 2,
    "version_minor": 0
   }
  }
 },
 "nbformat": 4,
 "nbformat_minor": 4
}