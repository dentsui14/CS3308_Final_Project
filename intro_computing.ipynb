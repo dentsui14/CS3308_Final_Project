{
 "cells": [
  {
   "cell_type": "markdown",
   "metadata": {},
   "source": [
    "# Introduction to Computing\n",
    "You probably use computers every day to send emails, write reports, create presentations, or watch entertainment. However, that is only a very small subset of the full capabilities of computers. Currently, almost everything in the business world is supported by computers. Google’s internet servers have allowed the entire world to have access to its services at an extremely high speed. Amazon may collect billions of customer interactions to provide product recommendations using artificial intelligence. By better understanding the fundamentals of computing and artificial intelligence, you will be able to leverage this knowledge to empower your business solutions and daily operations, even if you aren’t a full-blown programmer.\n",
    "\n",
    "Computers are powerful because they can complete calculations at a level of speed and accuracy that is impossible for humans. Think about how long it would take for you to calculate 7823 x 9201, versus a computer which can solve it instantaneously. However, computers are also extremely dumb. Without any human intervention, it cannot do anything beyond storing information and performing arithmetic. Thus, in solving any problem, the computer’s only role is to carry out rote calculations. It is the human’s role to tell it what to do.\n",
    "\n",
    "```{image} ./images/fast_dumb.png\n",
    ":alt: Open book with X covering the left half.\n",
    ":class: bg-primary mb-1\n",
    ":height: 250px\n",
    ":align: center\n",
    "```\n",
    "\n",
    "The list of commands that a human uses to instruct a computer to complete a task is called an **algorithm**. In essence, the act of using a computer to solve problems involves creating algorithms. Once a programmer has designed an algorithm, they use **code**, the language of a computer, to write this algorithm as a **program**. \n",
    "\n",
    "Let’s see a detailed example of how one might design and implement an algorithm and program.\n",
    "\n",
    "## Linear vs Binary Search Algorithm\n",
    "\n",
    "Suppose we are looking for the word “professional” in the English Dictionary. One algorithm that we can use to solve this is to flip one by one through each page of the dictionary. For each page check to see if that word is contained in the dictionary. If it is then we choose that word. Otherwise we flip the page and check the next word. This is guaranteed to work but obviously very slow. This is known as a **linear search**\n",
    "\n",
    "Is this how a human would normally search for a word in a dictionary? Of course not! What would you do? Open to the middle of the book. Let’s say that the middle of the book contains words of the letter “M”. Because P is after “M” we know that the word “professional” is in the second half of the book! Thus, we can completely eliminate checking the first half of the book and only worry about the second half of the book. We can repeat this process again and again, halving the book each time until we find our word. This is known as a **binary search**.\n",
    "\n",
    "```{image} ./images/book.png\n",
    ":alt: Computer with caption fast but dumb. Human with caption slow but smart.\n",
    ":class: bg-primary mb-1\n",
    ":height: 200px\n",
    ":align: center\n",
    "```\n",
    "\n",
    "How much more efficient is the binary search compared the linear search? There are around 1,000,000 words in the English language. For our linear search, this would require us to read the majority of the book, somewhere between **500,000** to **1,000,000** words! On the other hand, in the second algorithm, we half our search space for every word. 1,000,000 becomes 500,000,000 becomes 250,000,000 and so on. After halving only $log_2(1,000,000) = $**20** times we are guaranteed to find any word!\n",
    "\n",
    "Now, let’s actually write the second algorithm. When we write an algorithm in English, it is called **pseudocode**. This is because actual code is written in a **programming language** such as Python, Java, or C++.\n",
    "\n",
    "## Pseudocode\n",
    "\n",
    "1. Obtain a dictionary (not to be confused with a Python dictionary!).\n",
    "2. Repeat steps 3-7 until the word has been found.\n",
    "3. Open the dictionary to the middle of it.\n",
    "4. If the word on the page is the word we are looking for, read the definition and exit.\n",
    "5. Otherwise, if the word on the page alphabetically is before the word we are looking for, discard the first half of the book.\n",
    "6. Otherwise, if the word on the page is alphabetically after the word we are looking for, discard the second half of the book.\n",
    "7. Otherwise, If the dictionary is empty, then exit, as the word is not in the dictionary.\n",
    "\n",
    "By the end of this module, you will learn the Python syntax to write this pseudocode. The dictionary is represented as a **list** that will be stored inside a **variable**. Step 2’s repetition until a condition is satisfied will be implemented using **loops**. The if, otherwise logic used from steps 4-7 will be implemented using **conditionals**. Lastly, we can embed this algorithm into a **function** so it can be called many times on a variety of inputs.\n"
   ]
  }
 ],
 "metadata": {
  "language_info": {
   "name": "python"
  }
 },
 "nbformat": 4,
 "nbformat_minor": 2
}
