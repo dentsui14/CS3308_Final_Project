{
 "cells": [
  {
   "cell_type": "markdown",
   "metadata": {},
   "source": [
    "# AI/ML In Practice"
   ]
  },
  {
   "cell_type": "markdown",
   "metadata": {},
   "source": [
    "The following lesson is follow along lesson, where we will show you how machine learning models are built and used in practice. \n",
    "\n",
    "You won't need to write any code, but will see how existing pre-written packages of code allow us to easily train our own ML models, without having to re-engineer about what goes on under the hood. \n",
    "\n",
    "\n",
    "Of course, when building production software, a deep understanding of underlying technologies is essential. There are issues with AI models too, like bias and hallucination, that must be understood better before they are used in practice. \n",
    "\n",
    "This lesson is meant for beginner developers, who want to start playing with these models on their own."
   ]
  },
  {
   "cell_type": "markdown",
   "metadata": {},
   "source": [
    "## The Power of Abstraction\n",
    "\n",
    "As a regular non-AI/ML programmer, you can still use these technologies in your code. This is made possible through the power of abstraction. \n",
    "Abstraction is one of the cornerstones of computer science. It refers to developing code that can be used by other developers, but without needing to be intricately understood by other developers. \n",
    "\n",
    "It allows us to build on top of existing technologies without spending too many resources building everything from scratch.\n",
    "Python developers can use built-in, or open-source *libraries*, to accomplish many general purpose programming tasks, that may in reality be very complex! One of these tasks is training a Machine Learning model.\n",
    "\n"
   ]
  },
  {
   "cell_type": "markdown",
   "metadata": {},
   "source": [
    "```{image} ./images/Abstraction.png\n",
    ":class: bg-primary mb-1\n",
    ":height: 300px\n",
    ":align: center\n",
    "```\n",
    "\n",
    "Image Credit: [ScienceDirect.com](https://www.google.com/url?sa=i&url=https%3A%2F%2Fwww.sciencedirect.com%2Fscience%2Farticle%2Fpii%2FS0927025618302349&psig=AOvVaw255dgEq3TCHeFFquyrrbdz&ust=1713891170627000&source=images&cd=vfe&opi=89978449&ved=0CAQQjB1qFwoTCPCA1b2l1oUDFQAAAAAdAAAAABAE)"
   ]
  },
  {
   "cell_type": "markdown",
   "metadata": {},
   "source": [
    "## Machine Learning Libraries in Practice"
   ]
  },
  {
   "cell_type": "markdown",
   "metadata": {},
   "source": [
    "To use an installed package, we can simply import it into our project. Of course, if the package is not installed, we can install it using pip (python's package installation system).\n",
    "\n",
    "One of the most common and easy to use Python packages for machine learning is called scikit-learn. First, lets install scikit-learn.\n",
    "\n",
    "Another commonly used library for data analysis is called Pandas. We shall install pandas as well."
   ]
  },
  {
   "cell_type": "code",
   "execution_count": null,
   "metadata": {},
   "outputs": [],
   "source": [
    "!pip install scikit-learn pandas"
   ]
  },
  {
   "cell_type": "code",
   "execution_count": null,
   "metadata": {},
   "outputs": [],
   "source": [
    "import pandas \n",
    "import numpy \n",
    "print(\"Packages successfully installed!\")\n"
   ]
  },
  {
   "cell_type": "markdown",
   "metadata": {},
   "source": [
    "### Linear Regression \n",
    "Lets explore one of the simplest and most useful machine learning methods, linear regression. Simply put, this method takes some numerical data, and tried to find a line of best fit for that data. It's best explained with an example! \n",
    "\n",
    "Lets image a case where a country-wide shortage of oranges has been announced. After this announcement, our team of data scientists has recorded the price of oranges every two days, for the next 10 days. This is what our data looks like: "
   ]
  },
  {
   "cell_type": "markdown",
   "metadata": {},
   "source": [
    "```{image} ./images/LinearRegression.png\n",
    ":class: bg-primary mb-1\n",
    ":height: 500px\n",
    ":align: center\n",
    "```\n",
    "\n",
    "Image Credit: [Spiceworks](https://www.spiceworks.com/tech/artificial-intelligence/articles/what-is-linear-regression/)"
   ]
  },
  {
   "cell_type": "code",
   "execution_count": null,
   "metadata": {},
   "outputs": [],
   "source": [
    "data = {\n",
    "    \"Days after orange shortage announced\": [2,4,6,8,10],\n",
    "    \"Price of oranges ($)\":[3,4,5,6,7],\n",
    "}\n",
    "\n",
    "# Note: We're using the pandas dataframe to store our data!\n",
    "df = pandas.DataFrame.from_dict(data)\n",
    "display(df)"
   ]
  },
  {
   "cell_type": "markdown",
   "metadata": {},
   "source": [
    "Now, lets plot our data on a graph, to understand how it looks, and get insights into the trend of this graph. \n",
    "\n",
    "To accomplish this task, we will use another python library called matplot."
   ]
  },
  {
   "cell_type": "code",
   "execution_count": null,
   "metadata": {},
   "outputs": [],
   "source": [
    "!pip install matplotlib"
   ]
  },
  {
   "cell_type": "code",
   "execution_count": null,
   "metadata": {},
   "outputs": [],
   "source": [
    "from matplotlib import pyplot\n",
    "\n",
    "\n",
    "X_axis_data = df[\"Days after orange shortage announced\"]\n",
    "Y_axis_data = df[\"Price of oranges ($)\"]\n",
    "pyplot.scatter( X_axis_data, Y_axis_data )\n",
    "\n",
    "# Now, lets set some labels for our graph \n",
    "pyplot.xlabel(\"Days after orange shortage\")\n",
    "pyplot.ylabel(\"Price of oranges\")\n",
    "pyplot.title(\"Daily Price of oranges after shortage announced\")\n",
    "\n",
    "pyplot.show()"
   ]
  },
  {
   "cell_type": "markdown",
   "metadata": {},
   "source": [
    "Nice! It looks like our data follows a line, or has a 'linear trend'. This makes it perfect for linear regression!\n",
    "\n",
    "We'll use scikit-learns `model` package to abstractly use Linear Regression, without needing to implement any details!"
   ]
  },
  {
   "cell_type": "code",
   "execution_count": 9,
   "metadata": {},
   "outputs": [],
   "source": [
    "from sklearn.linear_model import LinearRegression\n",
    "print(\"Packages successfully installed!\")"
   ]
  },
  {
   "cell_type": "code",
   "execution_count": null,
   "metadata": {},
   "outputs": [],
   "source": [
    "# this code will yield an error\n",
    "try: \n",
    "    reg = LinearRegression().fit(X_axis_data, Y_axis_data)\n",
    "    print(\"Success!\")\n",
    "except Exception as e: \n",
    "    print(\"Found an error!\")\n",
    "    print(e)"
   ]
  },
  {
   "cell_type": "markdown",
   "metadata": {},
   "source": [
    "Looks like our LinearRegression() function expects data in a different format. Currently, we pass in our X_axis_data as a list, but our function expects a 2-D list. Lets fix this!"
   ]
  },
  {
   "cell_type": "code",
   "execution_count": null,
   "metadata": {},
   "outputs": [],
   "source": [
    "try: \n",
    "    X_axis_data = [[X] for X in X_axis_data] # Using a list-comprehension technique to re-format our data!\n",
    "    reg = LinearRegression().fit(X_axis_data, Y_axis_data)\n",
    "    print(\"Success!\")\n",
    "except Exception as e: \n",
    "    print(\"Found an error!\")\n",
    "    print(e)"
   ]
  },
  {
   "cell_type": "markdown",
   "metadata": {},
   "source": [
    "Lets test our model now! Once again, this is the data that we learned from: "
   ]
  },
  {
   "cell_type": "code",
   "execution_count": null,
   "metadata": {},
   "outputs": [],
   "source": [
    "display(df)"
   ]
  },
  {
   "cell_type": "markdown",
   "metadata": {},
   "source": [
    "What if we wanted to know the price of oranges on day 3, or day 11? Our model can give us an estimate for this price. "
   ]
  },
  {
   "cell_type": "code",
   "execution_count": null,
   "metadata": {},
   "outputs": [],
   "source": [
    "print(\"The price of oranges on day 3 is\" ,reg.predict([[3]]))\n",
    "print(\"The price of oranges on day 10 is\" ,reg.predict([[11]]))\n"
   ]
  },
  {
   "cell_type": "markdown",
   "metadata": {},
   "source": [
    "You can see that the price on day 3 lies exactly between the price of the oranges on day 2 and the price on day 4, and the price on day 11 is a 0.5 increase over the price on day 10. \n",
    "From the data the model has made the following inference: every two days the price increases by one dollar, so every day the price increases by half a dollar. \n",
    "\n",
    "Lets plot the line the model learned, along with our original data.  "
   ]
  },
  {
   "cell_type": "code",
   "execution_count": null,
   "metadata": {},
   "outputs": [],
   "source": [
    "\n",
    "# Getting some responses from the model on unseen data\n",
    "dummy_data = [[day] for day in range(12)]\n",
    "model_outputs = reg.predict(dummy_data)\n",
    "\n",
    "# Plotting both the original data and the learned line \n",
    "pyplot.scatter(X_axis_data, Y_axis_data, label=\"Original Data\")\n",
    "pyplot.plot(dummy_data, model_outputs, color=\"red\", label=\"Linear Regression Line\")\n",
    "\n",
    "# Labelling our graph\n",
    "pyplot.xlabel(\"Days after orange shortage\")\n",
    "pyplot.ylabel(\"Price of oranges\")\n",
    "pyplot.title(\"Daily Price of oranges after shortage announced\")\n",
    "pyplot.legend()\n",
    "pyplot.show()\n"
   ]
  },
  {
   "cell_type": "markdown",
   "metadata": {},
   "source": [
    "### Sentiment Analysis \n",
    "\n",
    "Another easy-to-use Machine Learning application is called Sentiment Analysis, which aims to score how negative or positive a piece of text is. \n",
    "\n",
    "To explore sentiment shall use an extremely powerful library called nltk, which abstracts away almost all of the complexity of using a text-based machine learning model. We will make use of a pre-trained model, which has already learned how to determine the sentiment of a piece of text \n",
    "\n",
    "As before, lets install the library!"
   ]
  },
  {
   "cell_type": "code",
   "execution_count": null,
   "metadata": {},
   "outputs": [],
   "source": [
    "!pip install nltk"
   ]
  },
  {
   "cell_type": "code",
   "execution_count": null,
   "metadata": {},
   "outputs": [],
   "source": [
    "import nltk \n",
    "nltk.download('all')"
   ]
  },
  {
   "cell_type": "markdown",
   "metadata": {},
   "source": [
    "```{image} ./images/SentimentAnalysis.png\n",
    ":class: bg-primary mb-1\n",
    ":height: 200px\n",
    ":align: center\n",
    "```\n",
    "Image Credit: [Express Analytics](https://www.expressanalytics.com/blog/social-media-sentiment-analysis/)"
   ]
  },
  {
   "cell_type": "markdown",
   "metadata": {},
   "source": [
    "We shall use the sentiment package from NLTK, to get a pre-trained model called vader. \n",
    "\n",
    "This model can take as input as piece of text, and outputs a score from 0-1 across 3 categories, positive, negative or neutral. For each category, a score closer to 1 indicates intense senitment for that category. "
   ]
  },
  {
   "cell_type": "code",
   "execution_count": null,
   "metadata": {},
   "outputs": [],
   "source": [
    "from nltk.sentiment.vader import SentimentIntensityAnalyzer\n",
    "\n",
    "analyzer = SentimentIntensityAnalyzer()\n",
    "\n",
    "def get_sentiment(text):\n",
    "    sentiment_scores = analyzer.polarity_scores(text)\n",
    "    print(f'''\n",
    "    Determined the following scores for text '{text}':\n",
    "        -Positive Sentiment: {sentiment_scores['pos']}\n",
    "        -Negative Sentiment: {sentiment_scores['neg']}\n",
    "        -Neutral Sentiment:  {sentiment_scores['neu']}\n",
    "    ''')\n",
    "\n",
    "\n",
    "\n",
    "get_sentiment('I love you!')\n",
    "get_sentiment('I hate you!')\n",
    "\n",
    "\n"
   ]
  },
  {
   "cell_type": "markdown",
   "metadata": {},
   "source": [
    "## Conclusion\n",
    "\n",
    "We hope you enjoyed learning about how existing libraries enable regular developers to use ML techniques in our code! \n",
    "Linear regression and sentiment analysis are only two of many abstractions available through libraries like ntlk, scikit-learn, transformers, pytorch and keras!"
   ]
  }
 ],
 "metadata": {
  "kernelspec": {
   "display_name": "base",
   "language": "python",
   "name": "python3"
  },
  "language_info": {
   "codemirror_mode": {
    "name": "ipython",
    "version": 3
   },
   "file_extension": ".py",
   "mimetype": "text/x-python",
   "name": "python",
   "nbconvert_exporter": "python",
   "pygments_lexer": "ipython3",
   "version": "3.11.9"
  }
 },
 "nbformat": 4,
 "nbformat_minor": 2
}
