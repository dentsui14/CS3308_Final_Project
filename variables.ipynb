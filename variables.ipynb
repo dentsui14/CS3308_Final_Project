{
 "cells": [
  {
   "cell_type": "markdown",
   "metadata": {},
   "source": [
    "# Introduction to Variables\n",
    "\n",
    "Variables are a very important part of programming. Think of them like a bag you can put a value into. In Python, variables are created when you assign a value to them."
   ]
  },
  {
   "cell_type": "code",
   "execution_count": null,
   "metadata": {},
   "outputs": [],
   "source": [
    "# Example of creating variables\n",
    "number = 10\n",
    "greeting = \"Hello, Python!\"\n",
    "print(number) # print(...) can print the value of a variable to the output\n",
    "print(greeting)"
   ]
  },
  {
   "cell_type": "markdown",
   "metadata": {},
   "source": [
    "## Understanding Variable Assignment\n",
    "\n",
    "When you assign a value to a variable, you are telling Python to remember that value by the name of the variable; in other words, you're putting something in the bag. You can then use that name to access the value later. Variables can be reassigned to new values, and their type can change based on the new value assigned."
   ]
  },
  {
   "cell_type": "code",
   "execution_count": null,
   "metadata": {},
   "outputs": [],
   "source": [
    "# Assigning and reassigning variables\n",
    "age = 25           # age is initially an integer\n",
    "print(age)\n",
    "age = \"Twenty-five\" # reassigning age to a string\n",
    "print(age)"
   ]
  },
  {
   "cell_type": "markdown",
   "metadata": {},
   "source": [
    "Notice how the two different things print when the same variable is printed\n",
    "\n",
    "## Types of Variables\n",
    "\n",
    "Variables in Python can hold different types of data. Here are the common data types:\n",
    "\n",
    "- **Integers:** Whole numbers without a fractional part.\n",
    "- **Floats:** Numbers that contain a decimal point.\n",
    "- **Strings:** Sequences of characters used for storing text.\n",
    "- **Booleans:** Values that indicate True or False."
   ]
  },
  {
   "cell_type": "code",
   "execution_count": null,
   "metadata": {},
   "outputs": [],
   "source": [
    "# Different types of variables\n",
    "integer_var = 100\n",
    "float_var = 100.5\n",
    "string_var = \"Learning Python\"\n",
    "boolean_var = True"
   ]
  },
  {
   "cell_type": "markdown",
   "metadata": {},
   "source": [
    "## Variable Naming Rules\n",
    "\n",
    "The rules for naming variables are simple but important to follow. Not following them will cause errors. The rules are:\n",
    "\n",
    "1. Names must start with a letter or an underscore.\n",
    "2. Names cannot start with a number.\n",
    "3. Names can only contain alphanumeric characters and underscores (A-z, 0-9, _).\n",
    "4. Names are case-sensitive (`variable`, `Variable`, and `VARIABLE` are different variables!)."
   ]
  },
  {
   "cell_type": "code",
   "execution_count": null,
   "metadata": {},
   "outputs": [],
   "source": [
    "# Valid variable names\n",
    "my_variable = \"Valid\"\n",
    "_variable2 = 123\n",
    "__name__ = \"Special case for special variables\""
   ]
  },
  {
   "cell_type": "code",
   "execution_count": null,
   "metadata": {},
   "outputs": [],
   "source": [
    "\n",
    "# Invalid variable names - running this cell will raise a SyntaxError!\n",
    "2my_variable = \"Invalid\"\n",
    "my-variable = \"Invalid\"\n"
   ]
  },
  {
   "cell_type": "markdown",
   "metadata": {},
   "source": [
    "## Changing the type of a variable\n",
    "\n",
    "Sometimes, you may have to tell the program to convert a variable's data type, changing it from one type to another. This is often the case when performing operations that require uniform data types."
   ]
  },
  {
   "cell_type": "code",
   "execution_count": null,
   "metadata": {},
   "outputs": [],
   "source": [
    "# Converting integer to float\n",
    "my_int = 10\n",
    "my_float = float(my_int)\n",
    "print(my_float)\n",
    "\n",
    "# Converting float to integer (note: this truncates the decimal part)\n",
    "my_new_int = int(my_float)\n",
    "print(my_new_int)\n",
    "\n",
    "# Converting a number to a string\n",
    "my_str = str(my_new_int)\n",
    "print(my_str)"
   ]
  }
 ],
 "metadata": {
  "language_info": {
   "name": "python"
  }
 },
 "nbformat": 4,
 "nbformat_minor": 2
}
