{
 "cells": [
  {
   "cell_type": "markdown",
   "metadata": {},
   "source": [
    "# More about variables\n",
    "\n",
    "Now that you know about functions and more complex data types, we discuss more topics about variables.\n",
    "\n",
    "## Scope of Variables\n",
    "\n",
    "Variables in Python have a scope that defines the visibility of the variable name within different parts of your code. There are two main types of scope:\n",
    "\n",
    "- Local scope: Variables created within a function belong to the local scope of that function, and only exist as long as the function is executing.\n",
    "- Global scope: Variables created in the main body of the Python script are global and are accessible throughout the code."
   ]
  },
  {
   "cell_type": "code",
   "execution_count": null,
   "metadata": {},
   "outputs": [],
   "source": [
    "# Demonstrating local and global scope\n",
    "global_var = \"I am global\"\n",
    "\n",
    "def test_scope():\n",
    "    local_var = \"I am local\"\n",
    "    print(local_var)\n",
    "    print(global_var)\n",
    "test_scope() # This will print \"I am local\" followed by \"I am global\"\n",
    "\n",
    "# The line below will raise an error because local_var is not accessible here\n",
    "print(local_var)\n"
   ]
  },
  {
   "cell_type": "markdown",
   "metadata": {},
   "source": [
    "## Mutable vs Immutable Variables\n",
    "\n",
    "In Python, some objects like lists and dictionaries are mutable, meaning you can change their content without changing their identity. Others, like integers and strings, are immutable, meaning any changes to them create new objects."
   ]
  },
  {
   "cell_type": "code",
   "execution_count": null,
   "metadata": {},
   "outputs": [],
   "source": [
    "# Immutable example\n",
    "x = 10\n",
    "print(id(x))  # prints the memory address of x\n",
    "x += 1\n",
    "print(id(x))  # prints a new memory address of x\n",
    "\n",
    "# Mutable example\n",
    "y = [1, 2, 3]\n",
    "print(id(y))  # prints the memory address of y\n",
    "y.append(4)\n",
    "print(id(y))  # prints the same memory address of y"
   ]
  },
  {
   "cell_type": "markdown",
   "metadata": {},
   "source": [
    "## Best Practices for Using Variables\n",
    "\n",
    "Using variables effectively is key to writing clear, readable, and efficient code. Here are some best practices:\n",
    "\n",
    "- Use meaningful variable names that make it clear what the data represents. The biggest difference between clean, readable code and messy, hard-to-follow code is the choice of variable names.\n",
    "- Avoid using global variables where possible, as they can make the program difficult to understand and debug.\n",
    "- Be aware of type conversions and ensure operations are performed on compatible data types."
   ]
  },
  {
   "cell_type": "code",
   "execution_count": null,
   "metadata": {},
   "outputs": [],
   "source": [
    "# Example of good variable naming\n",
    "hours_per_day = 24\n",
    "days_per_week = 7\n",
    "hours_per_week = hours_per_day * days_per_week\n",
    "print(\"Hours per week:\", hours_per_week)\n",
    "\n",
    "# Example of type conversions changing program results\n",
    "x = 10\n",
    "y = x / 3\n",
    "print(y)\n",
    "z = int(x / 3)\n",
    "print(z)"
   ]
  }
 ],
 "metadata": {
  "language_info": {
   "name": "python"
  }
 },
 "nbformat": 4,
 "nbformat_minor": 2
}
